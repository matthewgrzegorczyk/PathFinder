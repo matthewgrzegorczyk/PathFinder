{
 "cells": [
  {
   "cell_type": "code",
   "execution_count": 2,
   "metadata": {},
   "outputs": [
    {
     "name": "stdout",
     "output_type": "stream",
     "text": [
      "(52.228649, 21.025483)\n",
      "(50.264892, 19.023782)\n",
      "(51.759248, 19.455983)\n",
      "(52.406374, 16.925168)\n",
      "(49.299181, 19.949562)\n",
      "(54.466667, 17.016667)\n"
     ]
    }
   ],
   "source": [
    "import HelperFunctions as helper\n",
    "cities = helper.import_data('cities.txt')\n",
    "for name, coords in cities.items():\n",
    "    print(coords)\n",
    "\n",
    "    "
   ]
  },
  {
   "cell_type": "code",
   "execution_count": 63,
   "metadata": {},
   "outputs": [
    {
     "name": "stdout",
     "output_type": "stream",
     "text": [
      "(21.025483, 19.023782) (52.228649, 50.264892)\n"
     ]
    },
    {
     "data": {
      "image/png": "[encoded data removed]",
      "text/plain": [
       "<matplotlib.figure.Figure at 0x4e40d30>"
      ]
     },
     "metadata": {},
     "output_type": "display_data"
    }
   ],
   "source": [
    "import matplotlib.pyplot as plt\n",
    "\n",
    "DATA = ((1, 3),\n",
    "        (2, 4),\n",
    "        (3, 1),\n",
    "        (4, 2))\n",
    "# dash_style =\n",
    "#     direction, length, (text)rotation, dashrotation, push\n",
    "# (The parameters are varied to show their effects,\n",
    "# not for visual appeal).\n",
    "dash_style = (\n",
    "    (0, 20, -15, 30, 10),\n",
    "    (1, 30, 0, 15, 10),\n",
    "    (0, 40, 15, 15, 10),\n",
    "    (1, 20, 30, 60, 10),\n",
    "    )\n",
    "\n",
    "fig, ax = plt.subplots()\n",
    "\n",
    "(y, x) = zip(*cities.values())\n",
    "ax.plot(x, y, 'o')\n",
    "i = 0\n",
    "# for name, coords in cities.items():\n",
    "#     (x, y) = cities[name]\n",
    "#     (dd, dl, r, dr, dp) = dash_style[i]\n",
    "    #print('dashlen call %d' % dl)\n",
    "#     t = ax.text(x, y, str((x, y)), withdash=True,\n",
    "#                 dashdirection=dd,\n",
    "#                 dashlength=dl,\n",
    "#                 rotation=r,\n",
    "#                 dashrotation=dr,\n",
    "#                 dashpush=dp,\n",
    "#                 )\n",
    "#     i += 1\n",
    "#     i %= 4\n",
    "\n",
    "\n",
    "import matplotlib.lines as lines\n",
    "import matplotlib.text as mtext\n",
    "import matplotlib.transforms as mtransforms\n",
    "\n",
    "class MyLine(lines.Line2D):\n",
    "    def __init__(self, *args, **kwargs):\n",
    "        # we'll update the position when the line data is set\n",
    "        self.text = mtext.Text(0, 0, '')\n",
    "        lines.Line2D.__init__(self, *args, **kwargs)\n",
    "\n",
    "        # we can't access the label attr until *after* the line is\n",
    "        # inited\n",
    "        self.text.set_text(self.get_label())\n",
    "\n",
    "    def set_figure(self, figure):\n",
    "        self.text.set_figure(figure)\n",
    "        lines.Line2D.set_figure(self, figure)\n",
    "\n",
    "    def set_axes(self, axes):\n",
    "        self.text.set_axes(axes)\n",
    "        lines.Line2D.set_axes(self, axes)\n",
    "\n",
    "    def set_transform(self, transform):\n",
    "        # 2 pixel offset\n",
    "        texttrans = transform + mtransforms.Affine2D().translate(2, 2)\n",
    "        self.text.set_transform(texttrans)\n",
    "        lines.Line2D.set_transform(self, transform)\n",
    "\n",
    "    def set_data(self, x, y):\n",
    "        if len(x):\n",
    "            self.text.set_position((x[-1], y[-1]))\n",
    "\n",
    "        lines.Line2D.set_data(self, x, y)\n",
    "\n",
    "    def draw(self, renderer):\n",
    "        # draw my label at the end of the line with 2 pixel offset\n",
    "        lines.Line2D.draw(self, renderer)\n",
    "        self.text.draw(renderer)\n",
    "\n",
    "# Rysowanie linii.\n",
    "y, x = zip(cities['Warszawa'], cities['Katowice'])\n",
    "print(x, y)\n",
    "line = MyLine(x, y, mfc='red', ms=12,)\n",
    "line.text.set_color('red')\n",
    "line.text.set_fontsize(16)\n",
    "ax.add_line(line)\n",
    "\n",
    "plt.show()"
   ]
  }
 ],
 "metadata": {
  "kernelspec": {
   "display_name": "Python 3",
   "language": "python",
   "name": "python3"
  },
  "language_info": {
   "codemirror_mode": {
    "name": "ipython",
    "version": 3
   },
   "file_extension": ".py",
   "mimetype": "text/x-python",
   "name": "python",
   "nbconvert_exporter": "python",
   "pygments_lexer": "ipython3",
   "version": "3.6.1"
  }
 },
 "nbformat": 4,
 "nbformat_minor": 2
}
