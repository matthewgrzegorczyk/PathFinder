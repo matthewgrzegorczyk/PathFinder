{
 "cells": [
  {
   "cell_type": "code",
   "execution_count": 1,
   "metadata": {
    "collapsed": true
   },
   "outputs": [],
   "source": [
    "import HelperFunctions as helper\n",
    "cities = helper.import_cities('cities.txt')\n",
    "connections = helper.import_connections('connections.txt')\n",
    "\n",
    "citiesByIndex = list(cities.values())"
   ]
  },
  {
   "cell_type": "code",
   "execution_count": 2,
   "metadata": {},
   "outputs": [],
   "source": [
    "import matplotlib.pyplot as plt\n",
    "\n",
    "DATA = ((1, 3),\n",
    "        (2, 4),\n",
    "        (3, 1),\n",
    "        (4, 2))\n",
    "# dash_style =\n",
    "#     direction, length, (text)rotation, dashrotation, push\n",
    "# (The parameters are varied to show their effects,\n",
    "# not for visual appeal).\n",
    "dash_style = (\n",
    "    (0, 20, -15, 30, 10),\n",
    "    (1, 30, 0, 15, 10),\n",
    "    (0, 40, 15, 15, 10),\n",
    "    (1, 20, 30, 60, 10),\n",
    "    )\n",
    "\n",
    "fig, ax = plt.subplots(figsize=(14, 14))\n",
    "\n",
    "(y, x) = zip(*cities.values())\n",
    "ax.plot(x, y, 'o')\n",
    "\n",
    "for index, point in enumerate(cities.values()):\n",
    "    plt.annotate(\n",
    "        index, \n",
    "        xy=(point[1], point[0]), \n",
    "        xytext=(-20, 20),\n",
    "        textcoords='offset points', ha='right', va='bottom',\n",
    "        bbox=dict(boxstyle='round,pad=0.5', fc='yellow', alpha=0.5),\n",
    "    )\n",
    "i = 0\n",
    "# for name, coords in cities.items():\n",
    "#     (x, y) = cities[name]\n",
    "#     (dd, dl, r, dr, dp) = dash_style[i]\n",
    "    #print('dashlen call %d' % dl)\n",
    "#     t = ax.text(x, y, str((x, y)), withdash=True,\n",
    "#                 dashdirection=dd,\n",
    "#                 dashlength=dl,\n",
    "#                 rotation=r,\n",
    "#                 dashrotation=dr,\n",
    "#                 dashpush=dp,\n",
    "#                 )\n",
    "#     i += 1\n",
    "#     i %= 4\n",
    "\n",
    "\n",
    "import matplotlib.lines as lines\n",
    "import matplotlib.text as mtext\n",
    "import matplotlib.transforms as mtransforms\n",
    "\n",
    "class MyLine(lines.Line2D):\n",
    "    def __init__(self, *args, **kwargs):\n",
    "        # we'll update the position when the line data is set\n",
    "        self.text = mtext.Text(0, 0, '')\n",
    "        lines.Line2D.__init__(self, *args, **kwargs)\n",
    "\n",
    "        # we can't access the label attr until *after* the line is\n",
    "        # inited\n",
    "        self.text.set_text(self.get_label())\n",
    "\n",
    "    def set_figure(self, figure):\n",
    "        self.text.set_figure(figure)\n",
    "        lines.Line2D.set_figure(self, figure)\n",
    "\n",
    "    def set_axes(self, axes):\n",
    "        self.text.set_axes(axes)\n",
    "        lines.Line2D.set_axes(self, axes)\n",
    "\n",
    "    def set_transform(self, transform):\n",
    "        # 2 pixel offset\n",
    "        texttrans = transform + mtransforms.Affine2D().translate(2, 2)\n",
    "        self.text.set_transform(texttrans)\n",
    "        lines.Line2D.set_transform(self, transform)\n",
    "\n",
    "    def set_data(self, x, y):\n",
    "        if len(x):\n",
    "            self.text.set_position((x[-1], y[-1]))\n",
    "\n",
    "        lines.Line2D.set_data(self, x, y)\n",
    "\n",
    "    def draw(self, renderer):\n",
    "        # draw my label at the end of the line with 2 pixel offset\n",
    "        lines.Line2D.draw(self, renderer)\n",
    "        self.text.draw(renderer)\n",
    "\n",
    "\n",
    "# Rysowanie linii.\n",
    "for conn, distance in connections.items():\n",
    "    A, B = conn.split(',')\n",
    "    A = int(A)\n",
    "    B = int(B)\n",
    "    y, x = zip(citiesByIndex[A], citiesByIndex[B])\n",
    "    # print(x, y)\n",
    "    line = MyLine(x, y, mfc='red', ms=12)\n",
    "    line.text.set_color('red')\n",
    "    line.text.set_fontsize(16)\n",
    "    ax.add_line(line)\n",
    "\n",
    "plt.show()"
   ]
  },
  {
   "cell_type": "code",
   "execution_count": 3,
   "metadata": {
    "collapsed": true
   },
   "outputs": [
    {
     "name": "stdout",
     "output_type": "stream",
     "text": [
      "  1   1   1   0   0   0   0   0   0   0   0   0   0   0   0   0   0   0   0   0   0   0   0\n -1   0   0   1   1   1   1   1   0   0   0   0   0   0   0   0   0   0   0   0   0   0   0\n  0   0  -1   0   0  -1   0   0   1   0   0   0   0   0   0   0   0   0   0   0   0   0   0\n  0  -1   0  -1   0   0   0   0   0   1   1   0   0   0   0   0   0   0   0   0   0   0   0\n  0   0   0   0  -1   0   0   0   0  -1   0   1   1   1   0   0   0   0   0   0   0   0   0\n  0   0   0   0   0   0   0   0   0   0  -1  -1   0   0   1   1   0   0   0   0   0   0   0\n  0   0   0   0   0   0  -1   0  -1   0   0   0   0  -1   0   0   1   1   1   0   0   0   0\n  0   0   0   0   0   0   0  -1   0   0   0   0  -1   0  -1   0  -1   0   0   1   1   0   0\n  0   0   0   0   0   0   0   0   0   0   0   0   0   0   0  -1   0   0   0  -1   0  -1   0\n  0   0   0   0   0   0   0   0   0   0   0   0   0   0   0   0   0  -1   0   0  -1   1   1\n  0   0   0   0   0   0   0   0   0   0   0   0   0   0   0   0   0   0  -1   0   0   0  -1\n"
     ]
    }
   ],
   "source": [
    "graph = [[0 for x in range(len(connections))] for y in range(len(cities))]\n",
    "\n",
    "\n",
    "# See incidence matrix: http://eduinf.waw.pl/inf/alg/001_search/0124.php \n",
    "\n",
    "for (i, key) in enumerate(connections.keys()):\n",
    "    ab = key.split(',')\n",
    "    a = int(ab[0])\n",
    "    b = int(ab[1])\n",
    "    \n",
    "    # Oznaczenia w grafie skierowanym.\n",
    "    try:\n",
    "        graph[a][i] = 1\n",
    "        graph[b][i] = -1\n",
    "    except IndexError:\n",
    "        print(i)\n",
    "        print(a)\n",
    "        print(b)\n",
    "    \n",
    "    # Oznaczenia w grafie nieskierowanym.\n",
    "    # graph[int(a)][int(b)] = 1\n",
    "    # graph[int(b)][int(a)] = 1\n",
    "    \n",
    "# Wyświetlenie grafu incydencji.\n",
    "print('\\n'.join([' '.join(['{:3}'.format(item) for item in row]) for row in graph]))"
   ]
  },
  {
   "cell_type": "code",
   "execution_count": 4,
   "metadata": {},
   "outputs": [
    {
     "name": "stdout",
     "output_type": "stream",
     "text": [
      "  1   1   1   0   0   0   0   0   0   0   0   0   0   0   0   0   0   0   0   0   0   0   0\n -1   0   0   1   1   1   1   1   0   0   0   0   0   0   0   0   0   0   0   0   0   0   0\n  0   0  -1   0   0  -1   0   0   1   0   0   0   0   0   0   0   0   0   0   0   0   0   0\n  0  -1   0  -1   0   0   0   0   0   1   1   0   0   0   0   0   0   0   0   0   0   0   0\n  0   0   0   0  -1   0   0   0   0  -1   0   1   1   1   0   0   0   0   0   0   0   0   0\n  0   0   0   0   0   0   0   0   0   0  -1  -1   0   0   1   1   0   0   0   0   0   0   0\n  0   0   0   0   0   0  -1   0  -1   0   0   0   0  -1   0   0   1   1   1   0   0   0   0\n  0   0   0   0   0   0   0  -1   0   0   0   0  -1   0  -1   0  -1   0   0   1   1   0   0\n  0   0   0   0   0   0   0   0   0   0   0   0   0   0   0  -1   0   0   0  -1   0  -1   0\n  0   0   0   0   0   0   0   0   0   0   0   0   0   0   0   0   0  -1   0   0  -1   1   1\n  0   0   0   0   0   0   0   0   0   0   0   0   0   0   0   0   0   0  -1   0   0   0  -1\n"
     ]
    }
   ],
   "source": [
    "from Graph import Graph\n",
    "\n",
    "graph = Graph(connections, cities)\n",
    "graph.show_matrix()\n",
    "graph.create_adjacency_matrix(connections, cities)"
   ]
  },
  {
   "cell_type": "code",
   "execution_count": 5,
   "metadata": {},
   "outputs": [],
   "source": [
    "# start_node = 0\n",
    "# finish_node = 10\n",
    "# visited = []\n",
    "# edges_queue = []\n",
    "# queue = [start_node]\n",
    "# paths = {}\n",
    "# \n",
    "# level = 0\n",
    "# while queue:\n",
    "#     node = queue.pop(0)\n",
    "#     visited.append(node)\n",
    "# \n",
    "#     if node == finish_node:\n",
    "#         print(\"Path: \" + str(visited))\n",
    "# \n",
    "#     for index, val in enumerate(graph.graph[node]):\n",
    "#         if val == 1:\n",
    "#             edges_queue.append(index)\n",
    "# \n",
    "#     for n_index, node in enumerate(graph.graph):\n",
    "#         for e_index, edge in enumerate(node):\n",
    "#             if e_index in edges_queue:\n",
    "#                 if abs(edge) == 1 and n_index not in visited and n_index not in queue:\n",
    "#                     queue.append(n_index)\n",
    "#                     if level == 0:\n",
    "#                         paths[n_index] = []\n",
    "#                         # print(\"Test\")\n",
    "#                     else:\n",
    "#                         try:\n",
    "#                             paths[1].append(n_index)\n",
    "#                         except KeyError:\n",
    "#                             pass\n",
    "#             else:\n",
    "#                 break\n",
    "#     # print(\"Visited: \" + str(visited))\n",
    "#     # print(\"Queue: \" + str(queue))\n",
    "#     # print(paths)\n",
    "#     level += 1"
   ]
  },
  {
   "cell_type": "code",
   "execution_count": 7,
   "metadata": {},
   "outputs": [
    {
     "data": {
      "text/plain": [
       "[1, 6, 10]"
      ]
     },
     "execution_count": 7,
     "metadata": {},
     "output_type": "execute_result"
    }
   ],
   "source": [
    "graph.bfs_adj(0)\n",
    "\n",
    "# Wszystkie możliwe ścieżki o 0 do 10.\n",
    "paths = list(graph.bfs_paths_adj(0, 10))\n",
    "\n",
    "# Najkrótsza ścieżka.\n",
    "paths[0]\n",
    "\n",
    "# Z racji, że korzystamy z generatora, aby dostać najkrótszą istniejącą ścieżkę możemy wywołać metodę w postaci. (Bez wag)\n",
    "next(graph.bfs_paths_adj(1, 10))"
   ]
  },
  {
   "cell_type": "code",
   "execution_count": null,
   "metadata": {},
   "outputs": [],
   "source": [
    ""
   ]
  }
 ],
 "metadata": {
  "kernelspec": {
   "display_name": "Python 3",
   "language": "python",
   "name": "python3"
  },
  "language_info": {
   "codemirror_mode": {
    "name": "ipython",
    "version": 3.0
   },
   "file_extension": ".py",
   "mimetype": "text/x-python",
   "name": "python",
   "nbconvert_exporter": "python",
   "pygments_lexer": "ipython3",
   "version": "3.6.1"
  }
 },
 "nbformat": 4,
 "nbformat_minor": 0
}