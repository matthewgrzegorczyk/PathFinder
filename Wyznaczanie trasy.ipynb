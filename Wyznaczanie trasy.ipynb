{
 "cells": [
  {
   "cell_type": "code",
   "execution_count": 28,
   "metadata": {},
   "outputs": [
    {
     "name": "stdout",
     "output_type": "stream",
     "text": [
      "[(49.299181, 19.949562), (49.299181, 19.949562), (50.06465, 19.94498), (50.06465, 19.94498), (50.041187, 21.99912), (50.041187, 21.99912), (50.264892, 19.023782), (50.264892, 19.023782), (50.811819, 19.120309), (50.811819, 19.120309), (51.108092, 17.035121), (51.108092, 17.035121), (51.246454, 22.568446), (51.246454, 22.568446), (51.759248, 19.455983), (51.759248, 19.455983), (52.406374, 16.925168), (52.406374, 16.925168), (52.228649, 21.025483), (52.228649, 21.025483), (53.132549, 23.169454), (53.132549, 23.169454)]\n{'0,1': 15.3, '0,3': 14.5, '0,2': 14.0, '1,3': 14.7, '1,4': 14.3, '1,2': 13.1, '1,6': 13.6, '1,7': 13.9, '2,6': 13.5, '3,4': 13.5, '3,5': 13.0, '4,5': 13.1, '4,7': 13.9, '4,6': 12.8, '5,7': 13.5, '5,8': 12.1, '6,7': 12.6, '6,9': 13.3, '6,10': 11.5, '7,8': 11.1, '7,9': 12.9, '9,8': 13.2, '9,10': 14.1}\n"
     ]
    }
   ],
   "source": [
    "import HelperFunctions as helper\n",
    "cities = helper.import_cities('cities.txt')\n",
    "connections = helper.import_connections('connections.txt')\n",
    "\n",
    "citiesByIndex = list(cities.values())"
   ]
  },
  {
   "cell_type": "code",
   "execution_count": 35,
   "metadata": {},
   "outputs": [
    {
     "data": {
      "image/png": "[encoded data removed]",
      "text/plain": [
       "<matplotlib.figure.Figure at 0x266b9f0>"
      ]
     },
     "metadata": {},
     "output_type": "display_data"
    }
   ],
   "source": [
    "import matplotlib.pyplot as plt\n",
    "\n",
    "DATA = ((1, 3),\n",
    "        (2, 4),\n",
    "        (3, 1),\n",
    "        (4, 2))\n",
    "# dash_style =\n",
    "#     direction, length, (text)rotation, dashrotation, push\n",
    "# (The parameters are varied to show their effects,\n",
    "# not for visual appeal).\n",
    "dash_style = (\n",
    "    (0, 20, -15, 30, 10),\n",
    "    (1, 30, 0, 15, 10),\n",
    "    (0, 40, 15, 15, 10),\n",
    "    (1, 20, 30, 60, 10),\n",
    "    )\n",
    "\n",
    "fig, ax = plt.subplots()\n",
    "\n",
    "(y, x) = zip(*cities.values())\n",
    "ax.plot(x, y, 'o')\n",
    "i = 0\n",
    "# for name, coords in cities.items():\n",
    "#     (x, y) = cities[name]\n",
    "#     (dd, dl, r, dr, dp) = dash_style[i]\n",
    "    #print('dashlen call %d' % dl)\n",
    "#     t = ax.text(x, y, str((x, y)), withdash=True,\n",
    "#                 dashdirection=dd,\n",
    "#                 dashlength=dl,\n",
    "#                 rotation=r,\n",
    "#                 dashrotation=dr,\n",
    "#                 dashpush=dp,\n",
    "#                 )\n",
    "#     i += 1\n",
    "#     i %= 4\n",
    "\n",
    "\n",
    "import matplotlib.lines as lines\n",
    "import matplotlib.text as mtext\n",
    "import matplotlib.transforms as mtransforms\n",
    "\n",
    "class MyLine(lines.Line2D):\n",
    "    def __init__(self, *args, **kwargs):\n",
    "        # we'll update the position when the line data is set\n",
    "        self.text = mtext.Text(0, 0, '')\n",
    "        lines.Line2D.__init__(self, *args, **kwargs)\n",
    "\n",
    "        # we can't access the label attr until *after* the line is\n",
    "        # inited\n",
    "        self.text.set_text(self.get_label())\n",
    "\n",
    "    def set_figure(self, figure):\n",
    "        self.text.set_figure(figure)\n",
    "        lines.Line2D.set_figure(self, figure)\n",
    "\n",
    "    def set_axes(self, axes):\n",
    "        self.text.set_axes(axes)\n",
    "        lines.Line2D.set_axes(self, axes)\n",
    "\n",
    "    def set_transform(self, transform):\n",
    "        # 2 pixel offset\n",
    "        texttrans = transform + mtransforms.Affine2D().translate(2, 2)\n",
    "        self.text.set_transform(texttrans)\n",
    "        lines.Line2D.set_transform(self, transform)\n",
    "\n",
    "    def set_data(self, x, y):\n",
    "        if len(x):\n",
    "            self.text.set_position((x[-1], y[-1]))\n",
    "\n",
    "        lines.Line2D.set_data(self, x, y)\n",
    "\n",
    "    def draw(self, renderer):\n",
    "        # draw my label at the end of the line with 2 pixel offset\n",
    "        lines.Line2D.draw(self, renderer)\n",
    "        self.text.draw(renderer)\n",
    "\n",
    "\n",
    "# Rysowanie linii.\n",
    "for conn, distance in connections.items():\n",
    "    A, B = conn.split(',')\n",
    "    A = int(A)\n",
    "    B = int(B)\n",
    "    y, x = zip(citiesByIndex[A], citiesByIndex[B])\n",
    "    # print(x, y)\n",
    "    line = MyLine(x, y, mfc='red', ms=12)\n",
    "    line.text.set_color('red')\n",
    "    line.text.set_fontsize(16)\n",
    "    ax.add_line(line)\n",
    "\n",
    "plt.show()"
   ]
  },
  {
   "cell_type": "code",
   "execution_count": null,
   "metadata": {},
   "outputs": [],
   "source": [
    ""
   ]
  }
 ],
 "metadata": {
  "kernelspec": {
   "display_name": "Python 3",
   "language": "python",
   "name": "python3"
  },
  "language_info": {
   "codemirror_mode": {
    "name": "ipython",
    "version": 3.0
   },
   "file_extension": ".py",
   "mimetype": "text/x-python",
   "name": "python",
   "nbconvert_exporter": "python",
   "pygments_lexer": "ipython3",
   "version": "3.6.1"
  }
 },
 "nbformat": 4,
 "nbformat_minor": 0
}